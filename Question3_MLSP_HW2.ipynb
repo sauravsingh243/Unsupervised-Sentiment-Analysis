{
  "nbformat": 4,
  "nbformat_minor": 0,
  "metadata": {
    "colab": {
      "name": "Question3_MLSP_HW2.ipynb",
      "provenance": [],
      "collapsed_sections": []
    },
    "kernelspec": {
      "name": "python3",
      "display_name": "Python 3"
    },
    "language_info": {
      "name": "python"
    }
  },
  "cells": [
    {
      "cell_type": "code",
      "source": [
        "from google.colab import drive\n",
        "drive.mount('/content/drive/')"
      ],
      "metadata": {
        "colab": {
          "base_uri": "https://localhost:8080/"
        },
        "id": "Aqhb4yjTUkj6",
        "outputId": "ea897fa3-c165-46b9-ce4c-973f381eb465"
      },
      "execution_count": null,
      "outputs": [
        {
          "output_type": "stream",
          "name": "stdout",
          "text": [
            "Mounted at /content/drive/\n"
          ]
        }
      ]
    },
    {
      "cell_type": "markdown",
      "source": [
        "Importing required Library"
      ],
      "metadata": {
        "id": "3KiVDTr8Tdgq"
      }
    },
    {
      "cell_type": "code",
      "execution_count": null,
      "metadata": {
        "id": "xstNLvuWJVRS"
      },
      "outputs": [],
      "source": [
        "import numpy as np\n",
        "import matplotlib.pyplot as plt\n",
        "from collections import Counter\n",
        "from matplotlib.figure import Figure\n",
        "from sklearn.decomposition import PCA\n",
        "from scipy.stats import multivariate_normal\n",
        "from matplotlib.backends.backend_agg import FigureCanvasAgg as FigureCanvas\n",
        "import re\n",
        "import time\n",
        "import random\n",
        "import imageio\n",
        "import glob\n",
        "from numpy import array\n",
        "import librosa"
      ]
    },
    {
      "cell_type": "markdown",
      "source": [
        "Path of training data"
      ],
      "metadata": {
        "id": "kLUzdfJEfu34"
      }
    },
    {
      "cell_type": "code",
      "source": [
        "musicTrainDataPath = 'drive/MyDrive/Data/speech_music_classification/train/music'\n",
        "speechTrainDataPath = 'drive/MyDrive/Data/speech_music_classification/train/speech'"
      ],
      "metadata": {
        "id": "pHZq_zXFZmD8"
      },
      "execution_count": null,
      "outputs": []
    },
    {
      "cell_type": "code",
      "source": [
        "musicTrainData = glob.glob(musicTrainDataPath+ '/*.wav')\n",
        "speechTrainData = glob.glob(speechTrainDataPath+ '/*.wav')\n",
        "print(len(musicTrainData))\n",
        "print(len(speechTrainData))"
      ],
      "metadata": {
        "id": "koX6q1-OUKPV",
        "colab": {
          "base_uri": "https://localhost:8080/"
        },
        "outputId": "88011230-4f85-47ff-b1b4-a9826b3b700e"
      },
      "execution_count": null,
      "outputs": [
        {
          "output_type": "stream",
          "name": "stdout",
          "text": [
            "40\n",
            "40\n"
          ]
        }
      ]
    },
    {
      "cell_type": "markdown",
      "source": [
        "Spectrogram Function"
      ],
      "metadata": {
        "id": "MvsyzQWEf4xt"
      }
    },
    {
      "cell_type": "code",
      "source": [
        "F = np.zeros((64,400), np.complex64)\n",
        "def spectrogram(x, windowLength=400, hopLength=160, n_fft=256):\n",
        "    for k in range(64):\n",
        "      for n in range(0, 400):\n",
        "          F[k,n] =  np.exp(-2j *k * n * np.pi/400)\n",
        "    spec = np.zeros(((1 + np.int(np.floor((len(x) - windowLength) / float(hopLength)))), 64), np.complex64)\n",
        "    for i in range((1 + np.int(np.floor((len(x) - windowLength) / float(hopLength))))):\n",
        "      spec[i] = F @ (x[i * hopLength: i * hopLength + windowLength] * np.hamming(windowLength))\n",
        "    spec = np.log(np.abs(spec[:, :64 // 2])+1e-8)                     \n",
        "    return spec"
      ],
      "metadata": {
        "id": "9mvdzXubh-MY"
      },
      "execution_count": null,
      "outputs": []
    },
    {
      "cell_type": "code",
      "source": [
        "musicFrames = [] #Could change the number of frames??\n",
        "for i in range(0, len(musicTrainData)):\n",
        "  data, sampleRate = librosa.load(musicTrainData[i],sr = None)#Can change sampling rate\n",
        "  musicFrames.extend(spectrogram(data))\n",
        "musicFrames = np.array(musicFrames)\n",
        "# musicFrames = musicFrames\n",
        "musicFrames.shape"
      ],
      "metadata": {
        "colab": {
          "base_uri": "https://localhost:8080/"
        },
        "id": "HmXyt7LobBsJ",
        "outputId": "792c10db-3e9f-43f3-b512-764e325a2441"
      },
      "execution_count": null,
      "outputs": [
        {
          "output_type": "stream",
          "name": "stderr",
          "text": [
            "/usr/local/lib/python3.7/dist-packages/ipykernel_launcher.py:6: DeprecationWarning: `np.int` is a deprecated alias for the builtin `int`. To silence this warning, use `int` by itself. Doing this will not modify any behavior and is safe. When replacing `np.int`, you may wish to use e.g. `np.int64` or `np.int32` to specify the precision. If you wish to review your current use, check the release note link for additional information.\n",
            "Deprecated in NumPy 1.20; for more details and guidance: https://numpy.org/devdocs/release/1.20.0-notes.html#deprecations\n",
            "  \n",
            "/usr/local/lib/python3.7/dist-packages/ipykernel_launcher.py:7: DeprecationWarning: `np.int` is a deprecated alias for the builtin `int`. To silence this warning, use `int` by itself. Doing this will not modify any behavior and is safe. When replacing `np.int`, you may wish to use e.g. `np.int64` or `np.int32` to specify the precision. If you wish to review your current use, check the release note link for additional information.\n",
            "Deprecated in NumPy 1.20; for more details and guidance: https://numpy.org/devdocs/release/1.20.0-notes.html#deprecations\n",
            "  import sys\n"
          ]
        },
        {
          "output_type": "execute_result",
          "data": {
            "text/plain": [
              "(119920, 32)"
            ]
          },
          "metadata": {},
          "execution_count": 6
        }
      ]
    },
    {
      "cell_type": "code",
      "source": [
        "speechFrames = []\n",
        "for i in range(0, len(speechTrainData)):\n",
        "  data, sampleRate = librosa.load(speechTrainData[i],sr = None)\n",
        "  speechFrames.extend(spectrogram(data))\n",
        "speechFrames = np.array(speechFrames)\n",
        "speechFrames.shape"
      ],
      "metadata": {
        "colab": {
          "base_uri": "https://localhost:8080/"
        },
        "id": "i9CQPXtLjyAL",
        "outputId": "167a5668-d9a6-4a59-93b6-009c431370be"
      },
      "execution_count": null,
      "outputs": [
        {
          "output_type": "stream",
          "name": "stderr",
          "text": [
            "/usr/local/lib/python3.7/dist-packages/ipykernel_launcher.py:6: DeprecationWarning: `np.int` is a deprecated alias for the builtin `int`. To silence this warning, use `int` by itself. Doing this will not modify any behavior and is safe. When replacing `np.int`, you may wish to use e.g. `np.int64` or `np.int32` to specify the precision. If you wish to review your current use, check the release note link for additional information.\n",
            "Deprecated in NumPy 1.20; for more details and guidance: https://numpy.org/devdocs/release/1.20.0-notes.html#deprecations\n",
            "  \n",
            "/usr/local/lib/python3.7/dist-packages/ipykernel_launcher.py:7: DeprecationWarning: `np.int` is a deprecated alias for the builtin `int`. To silence this warning, use `int` by itself. Doing this will not modify any behavior and is safe. When replacing `np.int`, you may wish to use e.g. `np.int64` or `np.int32` to specify the precision. If you wish to review your current use, check the release note link for additional information.\n",
            "Deprecated in NumPy 1.20; for more details and guidance: https://numpy.org/devdocs/release/1.20.0-notes.html#deprecations\n",
            "  import sys\n"
          ]
        },
        {
          "output_type": "execute_result",
          "data": {
            "text/plain": [
              "(119920, 32)"
            ]
          },
          "metadata": {},
          "execution_count": 7
        }
      ]
    },
    {
      "cell_type": "markdown",
      "source": [
        "Initilaizing K clusters "
      ],
      "metadata": {
        "id": "S5isOoHmxWtz"
      }
    },
    {
      "cell_type": "code",
      "source": [
        "class KMean:\n",
        "  def __init__(self, numberOfClusters , numberOfIteration = 1000):\n",
        "    self.numberOfClusters = numberOfClusters\n",
        "    self.numberOfIteration = numberOfIteration\n",
        "    self.centers = None  \n",
        "\n",
        "\n",
        "\n",
        "  def KMeanfit(self, musicFrames):\n",
        "    it=0\n",
        "    self.centers = musicFrames[np.random.choice(np.arange(len(musicFrames)), size = self.numberOfClusters)]\n",
        "    for _ in range(self.numberOfIteration):\n",
        "      it+=1\n",
        "      distanceMatrix = np.zeros((len(musicFrames), self.numberOfClusters))\n",
        "      for i in  range(self.numberOfClusters):\n",
        "        distanceMatrix[:, i] = self.euclideanDistance(musicFrames, self.centers[i]) \n",
        "      clusterAssignment = distanceMatrix.argmin(axis=1)\n",
        "      newCenters = np.zeros_like(self.centers)\n",
        "      for i in range(self.numberOfClusters):\n",
        "        newCenters[i] = np.mean(musicFrames[clusterAssignment == i], axis=0)\n",
        "      if np.allclose(newCenters, self.centers):\n",
        "        self.centers = newCenters\n",
        "        break\n",
        "      self.centers = newCenters\n",
        "    print(it)\n",
        "    return self.centers\n",
        "    print(it)\n",
        "          \n",
        "  def KMeanpredict(self, musicFrames):\n",
        "    distanceMatrix = np.zeros((len(musicFrames), self.numberOfClusters))\n",
        "    for i in range(self.numberOfClusters):\n",
        "      distanceMatrix[:, i] = self.euclideanDistance(musicFrames, self.centers[i]) \n",
        "    clusterAssignment = distanceMatrix.argmin(axis=1)\n",
        "    return clusterAssignment\n",
        "\n",
        "  def euclideanDistance(self, pointA, pointB):\n",
        "    return np.sqrt(np.sum((pointA - pointB) ** 2, axis=1))\n",
        "    "
      ],
      "metadata": {
        "id": "1CqXVIFLtx4Q"
      },
      "execution_count": null,
      "outputs": []
    },
    {
      "cell_type": "markdown",
      "source": [
        "GMM Function"
      ],
      "metadata": {
        "id": "Pk0dEE7vgFmy"
      }
    },
    {
      "cell_type": "code",
      "source": [
        "# numberOfMixtures = 2\n",
        "# totalIterations = 50\n",
        "# global alpha # = np.ones(numberOfMixtures) / numberOfMixtures\n",
        "# logLikeliHoodList = []\n",
        "# mv = KMeanfit(musicFrames)\n",
        "# covariance = np.zeros((numberOfMixtures, musicFrames.shape[1], musicFrames.shape[1]))\n",
        "# clusters = [f\"cluster{i}\" for i in range(numberOfMixtures)]\n",
        "# alpha = np.ones(numberOfMixtures) / numberOfMixtures\n",
        "class GMM:\n",
        "  def __init__(self, numberOfMixtures, clusters = None, totalIterations = 1000, covarianceFlag = True):\n",
        "    self.numberOfMixtures = numberOfMixtures\n",
        "    self.totalIterations = totalIterations\n",
        "    self.logLikeliHoodList = []\n",
        "    self.covarianceFlag = covarianceFlag\n",
        "    if clusters == None:\n",
        "      temp = []\n",
        "      for i in range(0, self.numberOfMixtures):\n",
        "        temp.append(\"cluster\" + str(i))\n",
        "      self.cluster = temp\n",
        "      # self.clusters = [f\"cluster{index}\" for index in range(self.numberOfMixtures)]\n",
        "    else:\n",
        "      self.clusters = clusters\n",
        "    self.alpha = np.ones(numberOfMixtures) / numberOfMixtures\n",
        "    \n",
        "    \n",
        "\n",
        "  def multivariateNormal(self, musicFrames, mean, covariance):\n",
        "    a = multivariate_normal(mean=mean, cov=covariance)\n",
        "    return a.pdf(musicFrames)\n",
        "\n",
        "\n",
        "  def logLikelihood(self, musicFrames):\n",
        "    # alpha = np.ones(numberOfMixtures) / numberOfMixtures\n",
        "    p = np.zeros((len(musicFrames), self.numberOfMixtures))\n",
        "    for i in range(self.numberOfMixtures):\n",
        "      p[:, i] = self.alpha[i] * multivariate_normal(self.mv[i], self.covariance[i]).pdf(musicFrames)\n",
        "      # probs[:, i] = self.alphas[i] * self.p(data, self.means[i], self.covs[i])\n",
        "      # p.append([multivariate_normal(mv[k], covariance[k]).pdf(musicFrames[n]) for k in range(numberOfMixtures)])\n",
        "    likeliHood = np.sum(np.log(p.sum(axis=1)))\n",
        "    return likeliHood\n",
        "\n",
        "\n",
        "  def GMMfit(self, musicFrames):\n",
        "    flag = 0\n",
        "    # alpha = np.ones(numberOfMixtures) / numberOfMixtures\n",
        "    KMeanObject = KMean(numberOfClusters = self.numberOfMixtures)\n",
        "    self.mv = KMeanObject.KMeanfit(musicFrames)\n",
        "    self.covariance = np.zeros((self.numberOfMixtures, musicFrames.shape[1], musicFrames.shape[1]))\n",
        "    predictionKMean = KMeanObject.KMeanpredict(musicFrames)\n",
        "    for i in range(self.numberOfMixtures):\n",
        "      self.covariance[i] = np.cov(musicFrames[predictionKMean == i].T)\n",
        "    for _ in range(self.totalIterations):\n",
        "\n",
        "\n",
        "      self.temp = np.zeros((len(musicFrames), self.numberOfMixtures)) \n",
        "      # print(_)\n",
        "      for i in range(self.numberOfMixtures):\n",
        "        self.temp[:,i] = self.alpha[i] * (multivariate_normal(self.mv[i], self.covariance[i]).pdf(musicFrames))\n",
        "      self.logLikeliHoodList.append(np.sum(np.log(self.temp.sum(axis=1))))\n",
        "      self.temp = self.temp / self.temp.sum(axis=1)[:, None]\n",
        "      # self.logLikeliHoodList.append(np.sum(np.log(self.temp.sum(axis=1))))\n",
        "\n",
        "\n",
        "\n",
        "      tmv = np.zeros_like(self.mv)\n",
        "      for i in range(self.numberOfMixtures):\n",
        "        tmv[i] = np.multiply(self.temp[:, i][:, None], musicFrames).sum(axis=0) / self.temp[: , i].sum()\n",
        "      omv = self.mv\n",
        "      self.mv = tmv\n",
        "      covarinaceOld = self.covariance\n",
        "      \n",
        "      if(self.covarianceFlag == True):\n",
        "        diagonalCovarinace = ((np.dot((self.temp.T), (musicFrames * musicFrames)) / self.temp.sum(axis=0)[:, None]) \n",
        "                              - 2 \n",
        "                              * (self.mv * np.dot(self.temp.T, musicFrames) / self.temp.sum(axis=0)[:, None]) \n",
        "                              + (self.mv * self.mv) + 1e-6)\n",
        "        self.covariance = [np.diag(c) for c in diagonalCovarinace]\n",
        "      else:\n",
        "        covarinaceNew = np.zeros_like(self.covariance)\n",
        "        for i in range(self.numberOfMixtures):\n",
        "          covarinaceNew[i] = np.dot(self.temp[:, i] * (musicFrames - self.mv[i]).T, (musicFrames - self.mv[i])) / self.temp[:, i].sum()    \n",
        "          covarinaceNew[i].flat[::musicFrames.shape[1] + 1] += 1e-6\n",
        "          self.covariance[i] = covarinaceNew[i]\n",
        "\n",
        "      alphaOld = self.alpha\n",
        "      self.alpha = self.temp.mean(axis=0)\n",
        "\n",
        "      if np.allclose(self.alpha, alphaOld, rtol=1e-3, atol = 1e-3) and \\\n",
        "        np.allclose(self.covariance, covarinaceOld, rtol=1e-3, atol = 1e-3) and\\\n",
        "        np.allclose(self.mv, omv, rtol=1e-3, atol = 1e-3):\n",
        "        flag += 1\n",
        "        if(flag == 3):\n",
        "          print(\"Converged at, \", _)\n",
        "          break\n",
        "\n",
        "  def GMMpredict(self, musicFrames):\n",
        "    pos = []\n",
        "    result = []\n",
        "    for n in range(len(musicFrames)):\n",
        "      pos.append([multivariate_normal(self.mv[k], self.covariance[k]).pdf(musicFrames[n]) for k in range(self.numberOfMixtures)])  \n",
        "    for p in pos:\n",
        "      result.append(self.clusters[p.index(max(p))])\n",
        "    return result\n",
        "  \n",
        "  "
      ],
      "metadata": {
        "id": "pJVerVVx8Yxa"
      },
      "execution_count": null,
      "outputs": []
    },
    {
      "cell_type": "markdown",
      "source": [
        "Two Mixture Model of Music Data with Diagonal Covariance"
      ],
      "metadata": {
        "id": "1upCsHjTgYri"
      }
    },
    {
      "cell_type": "code",
      "source": [
        "DiagonalCovariance2musicModel  = GMM(2)\n",
        "DiagonalCovariance2musicModel.GMMfit(musicFrames)\n"
      ],
      "metadata": {
        "colab": {
          "base_uri": "https://localhost:8080/"
        },
        "id": "_n6QF_uMTiAa",
        "outputId": "f1aba4ee-c492-4e6e-c16c-0b1e45c02a77"
      },
      "execution_count": null,
      "outputs": [
        {
          "output_type": "stream",
          "name": "stdout",
          "text": [
            "23\n",
            "Converged at,  11\n"
          ]
        }
      ]
    },
    {
      "cell_type": "code",
      "source": [
        "plt.plot(-np.array(DiagonalCovariance2musicModel.logLikeliHoodList))\n",
        "plt.xlabel(\"Number of iterations\")\n",
        "plt.ylabel(\"Log likelihood\")"
      ],
      "metadata": {
        "colab": {
          "base_uri": "https://localhost:8080/",
          "height": 307
        },
        "id": "IvBImxt3UT-T",
        "outputId": "1e52f4a7-43f0-4651-d265-7db63ac8ce6f"
      },
      "execution_count": null,
      "outputs": [
        {
          "output_type": "execute_result",
          "data": {
            "text/plain": [
              "Text(0, 0.5, 'Log likelihood')"
            ]
          },
          "metadata": {},
          "execution_count": 11
        },
        {
          "output_type": "display_data",
          "data": {
            "image/png": "[encoded data removed]",
            "text/plain": [
              "<Figure size 432x288 with 1 Axes>"
            ]
          },
          "metadata": {
            "needs_background": "light"
          }
        }
      ]
    },
    {
      "cell_type": "markdown",
      "source": [
        "Two Mixture Model of Speech Data with Diagonal Covariance"
      ],
      "metadata": {
        "id": "j7NCSSuRgj0q"
      }
    },
    {
      "cell_type": "code",
      "source": [
        "DiagonalCovariance2SpeechModel = GMM(2)\n",
        "DiagonalCovariance2SpeechModel.GMMfit(speechFrames)"
      ],
      "metadata": {
        "id": "Yh2sl_2KydHr",
        "colab": {
          "base_uri": "https://localhost:8080/"
        },
        "outputId": "d48c90f0-2249-441b-f76d-d85d545026fd"
      },
      "execution_count": null,
      "outputs": [
        {
          "output_type": "stream",
          "name": "stdout",
          "text": [
            "16\n",
            "Converged at,  10\n"
          ]
        }
      ]
    },
    {
      "cell_type": "code",
      "source": [
        "plt.plot(-np.array(DiagonalCovariance2SpeechModel.logLikeliHoodList))\n",
        "plt.xlabel(\"Number of iterations\")\n",
        "plt.ylabel(\"Log likelihood\")\n"
      ],
      "metadata": {
        "id": "AKdk1gy1yiSJ",
        "colab": {
          "base_uri": "https://localhost:8080/",
          "height": 307
        },
        "outputId": "f6562e25-38b0-470c-ccc0-5797cc787420"
      },
      "execution_count": null,
      "outputs": [
        {
          "output_type": "execute_result",
          "data": {
            "text/plain": [
              "Text(0, 0.5, 'Log likelihood')"
            ]
          },
          "metadata": {},
          "execution_count": 13
        },
        {
          "output_type": "display_data",
          "data": {
            "image/png": "[encoded data removed]",
            "text/plain": [
              "<Figure size 432x288 with 1 Axes>"
            ]
          },
          "metadata": {
            "needs_background": "light"
          }
        }
      ]
    },
    {
      "cell_type": "markdown",
      "source": [
        "Two Mixture Model of Music Data with Full Covariance"
      ],
      "metadata": {
        "id": "XVJMUBGngqcK"
      }
    },
    {
      "cell_type": "code",
      "source": [
        "fullCovariance2MusicModel= GMM(2, covarianceFlag = False)\n",
        "fullCovariance2MusicModel.GMMfit(musicFrames)"
      ],
      "metadata": {
        "id": "1Y5n264xyftC",
        "colab": {
          "base_uri": "https://localhost:8080/"
        },
        "outputId": "4cf3c290-271b-4703-c007-72d299b722ef"
      },
      "execution_count": null,
      "outputs": [
        {
          "output_type": "stream",
          "name": "stdout",
          "text": [
            "28\n",
            "Converged at,  33\n"
          ]
        }
      ]
    },
    {
      "cell_type": "code",
      "source": [
        "plt.plot(fullCovariance2MusicModel.logLikeliHoodList)\n",
        "plt.xlabel(\"Number of iterations\")\n",
        "plt.ylabel(\"Log_likelihood\")\n"
      ],
      "metadata": {
        "colab": {
          "base_uri": "https://localhost:8080/",
          "height": 307
        },
        "id": "8I-2U0QP5F-s",
        "outputId": "26fee402-fc6d-4a7f-f64b-8f90836136e8"
      },
      "execution_count": null,
      "outputs": [
        {
          "output_type": "execute_result",
          "data": {
            "text/plain": [
              "Text(0, 0.5, 'Log_likelihood')"
            ]
          },
          "metadata": {},
          "execution_count": 15
        },
        {
          "output_type": "display_data",
          "data": {
            "image/png": "[encoded data removed]",
            "text/plain": [
              "<Figure size 432x288 with 1 Axes>"
            ]
          },
          "metadata": {
            "needs_background": "light"
          }
        }
      ]
    },
    {
      "cell_type": "markdown",
      "source": [
        "Two Mixture Model of Speech Data with full Covariance"
      ],
      "metadata": {
        "id": "23lOxO4Sgt8n"
      }
    },
    {
      "cell_type": "code",
      "source": [
        "fullCovariance2SpeechModel= GMM(2, covarianceFlag = False)\n",
        "fullCovariance2SpeechModel.GMMfit(speechFrames)"
      ],
      "metadata": {
        "colab": {
          "base_uri": "https://localhost:8080/"
        },
        "id": "QLFXu7JP5WP2",
        "outputId": "9c9d6128-1fb4-44b8-afa7-cacd76758b76"
      },
      "execution_count": null,
      "outputs": [
        {
          "output_type": "stream",
          "name": "stdout",
          "text": [
            "16\n",
            "Converged at,  66\n"
          ]
        }
      ]
    },
    {
      "cell_type": "code",
      "source": [
        "plt.plot(fullCovariance2SpeechModel.logLikeliHoodList)\n",
        "plt.xlabel(\"Number of iterations\")\n",
        "plt.ylabel(\"Log_likelihood\")"
      ],
      "metadata": {
        "colab": {
          "base_uri": "https://localhost:8080/",
          "height": 307
        },
        "id": "q8IB7AVs5eoE",
        "outputId": "da25faac-f5eb-48b1-b5b0-fba178d60765"
      },
      "execution_count": null,
      "outputs": [
        {
          "output_type": "execute_result",
          "data": {
            "text/plain": [
              "Text(0, 0.5, 'Log_likelihood')"
            ]
          },
          "metadata": {},
          "execution_count": 17
        },
        {
          "output_type": "display_data",
          "data": {
            "image/png": "[encoded data removed]",
            "text/plain": [
              "<Figure size 432x288 with 1 Axes>"
            ]
          },
          "metadata": {
            "needs_background": "light"
          }
        }
      ]
    },
    {
      "cell_type": "markdown",
      "source": [
        "Five Mixture Model of Music Data with Diagonal Covariance"
      ],
      "metadata": {
        "id": "pp3GvXnNhWg8"
      }
    },
    {
      "cell_type": "code",
      "source": [
        "DiagonalCovariance5MusicModel = GMM(numberOfMixtures = 5)\n",
        "DiagonalCovariance5MusicModel.GMMfit(musicFrames)"
      ],
      "metadata": {
        "colab": {
          "base_uri": "https://localhost:8080/"
        },
        "id": "1gPZZwEq6qLz",
        "outputId": "ebf592ae-5bed-4ff4-811f-4a6d48af35f9"
      },
      "execution_count": null,
      "outputs": [
        {
          "output_type": "stream",
          "name": "stdout",
          "text": [
            "55\n",
            "Converged at,  22\n"
          ]
        }
      ]
    },
    {
      "cell_type": "code",
      "source": [
        "plt.plot(-np.array(DiagonalCovariance5MusicModel.logLikeliHoodList))\n",
        "plt.xlabel(\"Number of iterations\")\n",
        "plt.ylabel(\"Loglikelihood\")\n"
      ],
      "metadata": {
        "colab": {
          "base_uri": "https://localhost:8080/",
          "height": 307
        },
        "id": "EVFy1OZx6q2w",
        "outputId": "ea800463-4a1d-4153-c36b-a2b6e67d026a"
      },
      "execution_count": null,
      "outputs": [
        {
          "output_type": "execute_result",
          "data": {
            "text/plain": [
              "Text(0, 0.5, 'Loglikelihood')"
            ]
          },
          "metadata": {},
          "execution_count": 19
        },
        {
          "output_type": "display_data",
          "data": {
            "image/png": "[encoded data removed]",
            "text/plain": [
              "<Figure size 432x288 with 1 Axes>"
            ]
          },
          "metadata": {
            "needs_background": "light"
          }
        }
      ]
    },
    {
      "cell_type": "markdown",
      "source": [
        "Five Mixture Model of Speech Data with Diagonal Covariance"
      ],
      "metadata": {
        "id": "VSw-lFnhhZ8u"
      }
    },
    {
      "cell_type": "code",
      "source": [
        "DiagonalCovariance5SpeechModel = GMM(5)\n",
        "DiagonalCovariance5SpeechModel.GMMfit(speechFrames)"
      ],
      "metadata": {
        "colab": {
          "base_uri": "https://localhost:8080/"
        },
        "id": "3wqBasQg0Rqr",
        "outputId": "e5659731-088b-48be-80ac-68c70a0aed65"
      },
      "execution_count": null,
      "outputs": [
        {
          "output_type": "stream",
          "name": "stdout",
          "text": [
            "86\n",
            "Converged at,  52\n"
          ]
        }
      ]
    },
    {
      "cell_type": "code",
      "source": [
        "plt.plot(-np.array(DiagonalCovariance5SpeechModel.logLikeliHoodList))\n",
        "plt.xlabel(\"Number of iterations\")\n",
        "plt.ylabel(\"Loglikelihood\")"
      ],
      "metadata": {
        "colab": {
          "base_uri": "https://localhost:8080/",
          "height": 307
        },
        "id": "wczBcRHo0aC4",
        "outputId": "bafa62e5-da28-495e-8f58-988ff96a5430"
      },
      "execution_count": null,
      "outputs": [
        {
          "output_type": "execute_result",
          "data": {
            "text/plain": [
              "Text(0, 0.5, 'Loglikelihood')"
            ]
          },
          "metadata": {},
          "execution_count": 21
        },
        {
          "output_type": "display_data",
          "data": {
            "image/png": "[encoded data removed]",
            "text/plain": [
              "<Figure size 432x288 with 1 Axes>"
            ]
          },
          "metadata": {
            "needs_background": "light"
          }
        }
      ]
    },
    {
      "cell_type": "markdown",
      "source": [
        "Five Mixture Model of Music Data with Full Covariance"
      ],
      "metadata": {
        "id": "t9XOzHWYhdI6"
      }
    },
    {
      "cell_type": "code",
      "source": [
        "fullCovariance5MusicModel = GMM(5, covarianceFlag = False)\n",
        "fullCovariance5MusicModel.GMMfit(musicFrames)"
      ],
      "metadata": {
        "colab": {
          "base_uri": "https://localhost:8080/"
        },
        "id": "iDwLKxNH1rAL",
        "outputId": "ecf14edf-cb2a-4e05-ef59-bb2ad0e576b6"
      },
      "execution_count": null,
      "outputs": [
        {
          "output_type": "stream",
          "name": "stdout",
          "text": [
            "71\n",
            "Converged at,  141\n"
          ]
        }
      ]
    },
    {
      "cell_type": "code",
      "source": [
        "plt.plot(fullCovariance5MusicModel.logLikeliHoodList)\n",
        "plt.xlabel(\"Number of iterations\")\n",
        "plt.ylabel(\"Log_likelihood\")"
      ],
      "metadata": {
        "colab": {
          "base_uri": "https://localhost:8080/",
          "height": 307
        },
        "id": "AwHWZZdK1s-w",
        "outputId": "9127fba8-8d8a-4884-9970-f58f6135febf"
      },
      "execution_count": null,
      "outputs": [
        {
          "output_type": "execute_result",
          "data": {
            "text/plain": [
              "Text(0, 0.5, 'Log_likelihood')"
            ]
          },
          "metadata": {},
          "execution_count": 23
        },
        {
          "output_type": "display_data",
          "data": {
            "image/png": "[encoded data removed]",
            "text/plain": [
              "<Figure size 432x288 with 1 Axes>"
            ]
          },
          "metadata": {
            "needs_background": "light"
          }
        }
      ]
    },
    {
      "cell_type": "markdown",
      "source": [
        "Five Mixture Model of Speech Data with Full Covariance"
      ],
      "metadata": {
        "id": "t35NVK9bhhNo"
      }
    },
    {
      "cell_type": "code",
      "source": [
        "fullCovariance5SpeechModel = GMM(5, covarianceFlag = False)\n",
        "fullCovariance5SpeechModel.GMMfit(speechFrames)"
      ],
      "metadata": {
        "colab": {
          "base_uri": "https://localhost:8080/"
        },
        "id": "-OxBB9RI2JUl",
        "outputId": "d0af3fbc-213b-4dcf-e4ed-1c9b97dc988a"
      },
      "execution_count": null,
      "outputs": [
        {
          "output_type": "stream",
          "name": "stdout",
          "text": [
            "143\n",
            "Converged at,  167\n"
          ]
        }
      ]
    },
    {
      "cell_type": "code",
      "source": [
        "plt.plot(fullCovariance5SpeechModel.logLikeliHoodList)\n",
        "plt.xlabel(\"Number of iterations\")\n",
        "plt.ylabel(\"Log_likelihood\")"
      ],
      "metadata": {
        "colab": {
          "base_uri": "https://localhost:8080/",
          "height": 307
        },
        "id": "enUsjz3g2J5z",
        "outputId": "2e8b885f-adef-4225-fca0-5b4c1e6e5c4a"
      },
      "execution_count": null,
      "outputs": [
        {
          "output_type": "execute_result",
          "data": {
            "text/plain": [
              "Text(0, 0.5, 'Log_likelihood')"
            ]
          },
          "metadata": {},
          "execution_count": 25
        },
        {
          "output_type": "display_data",
          "data": {
            "image/png": "[encoded data removed]",
            "text/plain": [
              "<Figure size 432x288 with 1 Axes>"
            ]
          },
          "metadata": {
            "needs_background": "light"
          }
        }
      ]
    },
    {
      "cell_type": "markdown",
      "source": [
        "Loading Testing Data"
      ],
      "metadata": {
        "id": "enPYbsZZhrTI"
      }
    },
    {
      "cell_type": "code",
      "source": [
        "path = 'drive/MyDrive/Data/speech_music_classification/test/'\n",
        "test = []\n",
        "\n",
        "files = glob.glob(path + '*.wav')\n",
        "\n",
        "for i in files:\n",
        "    if(i.split('/')[-1].split('_')[0] == 'music'):\n",
        "      test.append(0)\n",
        "    else:\n",
        "      test.append(1)\n",
        "print(test)"
      ],
      "metadata": {
        "id": "0fjMR1oW3Xum",
        "colab": {
          "base_uri": "https://localhost:8080/"
        },
        "outputId": "1726fdd4-057b-412c-c497-8a8b90018b0f"
      },
      "execution_count": null,
      "outputs": [
        {
          "output_type": "stream",
          "name": "stdout",
          "text": [
            "[0, 0, 0, 0, 0, 0, 0, 0, 0, 0, 0, 0, 0, 0, 0, 0, 0, 0, 0, 0, 1, 0, 0, 0, 0, 1, 1, 1, 1, 1, 1, 1, 1, 1, 1, 1, 1, 1, 1, 1, 1, 1, 1, 1, 1, 1, 1, 1]\n"
          ]
        }
      ]
    },
    {
      "cell_type": "markdown",
      "source": [
        "Making Prediction on Testing Data using Five Mixture Model of Speech & Music with Diagonal Covariance"
      ],
      "metadata": {
        "id": "GwwZOoNSh1Eb"
      }
    },
    {
      "cell_type": "code",
      "source": [
        "prediction = []\n",
        "for i in files:\n",
        "    testData, sampleRate = librosa.load(i, sr=None)\n",
        "    testDataSpectogram = spectrogram(testData)\n",
        "\n",
        "    TestSpeechLogLikelihood = DiagonalCovariance5SpeechModel.logLikelihood(testDataSpectogram)\n",
        "    TestMusicLogLikelihood = DiagonalCovariance5MusicModel.logLikelihood(testDataSpectogram)\n",
        "    if(TestMusicLogLikelihood > TestSpeechLogLikelihood):\n",
        "      prediction.append(0)\n",
        "    else:\n",
        "      prediction.append(1)\n",
        "test = np.array(test)\n",
        "prediction = np.array(prediction)"
      ],
      "metadata": {
        "id": "sDi5dwRh3YMz",
        "colab": {
          "base_uri": "https://localhost:8080/"
        },
        "outputId": "d8c79568-43e7-4690-d344-74f03f81ac28"
      },
      "execution_count": null,
      "outputs": [
        {
          "metadata": {
            "tags": null
          },
          "name": "stderr",
          "output_type": "stream",
          "text": [
            "/usr/local/lib/python3.7/dist-packages/ipykernel_launcher.py:6: DeprecationWarning: `np.int` is a deprecated alias for the builtin `int`. To silence this warning, use `int` by itself. Doing this will not modify any behavior and is safe. When replacing `np.int`, you may wish to use e.g. `np.int64` or `np.int32` to specify the precision. If you wish to review your current use, check the release note link for additional information.\n",
            "Deprecated in NumPy 1.20; for more details and guidance: https://numpy.org/devdocs/release/1.20.0-notes.html#deprecations\n",
            "  \n",
            "/usr/local/lib/python3.7/dist-packages/ipykernel_launcher.py:7: DeprecationWarning: `np.int` is a deprecated alias for the builtin `int`. To silence this warning, use `int` by itself. Doing this will not modify any behavior and is safe. When replacing `np.int`, you may wish to use e.g. `np.int64` or `np.int32` to specify the precision. If you wish to review your current use, check the release note link for additional information.\n",
            "Deprecated in NumPy 1.20; for more details and guidance: https://numpy.org/devdocs/release/1.20.0-notes.html#deprecations\n",
            "  import sys\n"
          ]
        }
      ]
    },
    {
      "cell_type": "markdown",
      "source": [
        "Calculating Accuracy"
      ],
      "metadata": {
        "id": "1W167lK6iDYE"
      }
    },
    {
      "cell_type": "code",
      "source": [
        "count = 0\n",
        "for i in range(0, len(test)):\n",
        "  if(prediction[i] == test[i]):\n",
        "    count += 1\n",
        "print(\"Accuracy : \", (count/len(files)*100))"
      ],
      "metadata": {
        "colab": {
          "base_uri": "https://localhost:8080/"
        },
        "id": "eDitbgcEATjy",
        "outputId": "4af404e9-b046-41f8-d0c7-316f038fc3fd"
      },
      "execution_count": null,
      "outputs": [
        {
          "output_type": "stream",
          "name": "stdout",
          "text": [
            "Accuracy :  95.83333333333334\n"
          ]
        }
      ]
    },
    {
      "cell_type": "markdown",
      "source": [
        "\n",
        "\n",
        "*   The error rate decreases when we will increase the number of mixtures.\n",
        "\n",
        "\n"
      ],
      "metadata": {
        "id": "9tuij_MkiTI5"
      }
    }
  ]
}